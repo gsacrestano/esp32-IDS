{
 "cells": [
  {
   "metadata": {},
   "cell_type": "markdown",
   "source": "### STM32 F401RE CNN Evaluation",
   "id": "f58bbd3ba05ee859"
  },
  {
   "metadata": {
    "ExecuteTime": {
     "end_time": "2025-03-22T11:35:48.567405Z",
     "start_time": "2025-03-22T11:35:48.564537Z"
    }
   },
   "cell_type": "code",
   "source": [
    "import numpy as np\n",
    "from sklearn.metrics import accuracy_score, precision_score, recall_score, f1_score, confusion_matrix, classification_report\n",
    "from sklearn.metrics import roc_auc_score\n"
   ],
   "id": "56f4cf58d26e21c1",
   "outputs": [],
   "execution_count": 9
  },
  {
   "metadata": {},
   "cell_type": "markdown",
   "source": [
    "### DATA\n",
    "**Dataset**: 256 entry\\\n",
    "**Test_Dataset**: 25 entry"
   ],
   "id": "bf0a1a59e53494e9"
  },
  {
   "cell_type": "code",
   "id": "f6a0e653742f3b77",
   "metadata": {
    "ExecuteTime": {
     "end_time": "2025-03-22T11:35:48.595655Z",
     "start_time": "2025-03-22T11:35:48.587220Z"
    }
   },
   "source": [
    "y_train = [0.00,1.00,0.00,1.00,1.00,1.00,1.00,1.00,1.00,1.00,1.00,0.00,0.00,1.00,0.00,0.00,1.00,0.00,0.00,1.00,0.00,1.00,1.00,1.00,1.00,1.00,1.00,0.00,1.00,0.00,1.00,0.00,1.00,1.00,1.00,0.00,1.00,1.00,0.00,0.00,0.00,1.00,0.00,1.00,1.00,0.00,1.00,0.00,0.00,1.00,1.00,0.00,1.00,0.00,0.00,1.00,0.00,0.00,1.00,0.00,0.00,0.00,1.00,0.00,0.00,1.00,1.00,0.00,0.00,1.00,0.00,1.00,1.00,1.00,1.00,1.00,1.00,0.00,0.00,0.00,0.00,0.00,0.00,0.00,1.00,1.00,1.00,0.00,1.00,1.00,1.00,1.00,1.00,0.00,0.00,1.00,1.00,1.00,0.00,1.00,1.00,1.00,1.00,0.00,1.00,1.00,0.00,0.00,0.00,1.00,1.00,1.00,1.00,1.00,1.00,0.00,0.00,0.00,1.00,1.00,0.00,0.00,0.00,1.00,0.00,1.00,0.00,0.00,1.00,1.00,1.00,0.00,1.00,1.00,1.00,1.00,0.00,1.00,0.00,1.00,0.00,1.00,0.00,0.00,0.00,0.00,1.00,0.00,1.00,1.00,1.00,1.00,0.00,0.00,1.00,0.00,1.00,0.00,0.00,1.00,1.00,1.00,0.00,0.00,0.00,1.00,0.00,1.00,1.00,1.00,0.00,1.00,0.00,1.00,0.00,0.00,1.00,1.00,1.00,0.00,1.00,1.00,0.00,0.00,1.00,1.00,1.00,0.00,1.00,0.00,1.00,1.00,1.00,1.00,0.00,1.00,0.00,0.00,1.00,1.00,0.00,1.00,1.00,0.00,1.00,0.00,1.00,0.00,0.00,1.00,1.00,1.00,1.00,1.00,1.00,0.00,0.00,1.00,0.00,0.00,0.00,0.00,1.00,0.00,0.00,1.00,0.00,0.00,0.00,1.00,0.00,1.00,0.00,0.00,1.00,0.00,0.00,0.00,1.00,1.00,0.00,1.00,1.00,0.00,1.00,0.00,0.00,0.00,0.00,1.00,1.00,1.00,0.00,1.00,0.00,0.00]\n",
    "y_train_pred = np.array([0.18,0.98,0.00,0.98,0.98,0.98,0.98,0.98,0.98,0.05,0.98,0.01,0.00,0.98,0.00,0.00,0.98,0.01,0.01,0.98,0.01,0.98,0.98,0.80,0.98,0.98,0.98,0.01,0.98,0.04,0.98,0.00,0.98,0.98,0.98,0.01,0.98,0.98,0.04,0.05,0.00,0.98,0.00,0.00,0.98,0.00,0.98,0.00,0.18,0.98,0.98,0.00,0.98,0.00,0.01,0.98,0.01,0.01,0.98,0.05,0.09,0.00,0.98,0.00,0.01,0.98,0.98,0.00,0.01,0.98,0.00,0.98,0.98,0.98,0.98,0.98,0.98,0.05,0.00,0.01,0.00,0.00,0.00,0.00,0.98,0.98,0.98,0.00,0.98,0.98,0.98,0.98,0.98,0.00,0.00,0.98,0.98,0.98,0.51,0.98,0.00,0.98,0.98,0.00,0.98,0.98,0.00,0.00,0.02,0.98,0.80,0.98,0.98,0.98,0.88,0.00,0.00,0.00,0.98,0.98,0.00,0.06,0.04,0.98,0.01,0.98,0.01,0.04,0.98,0.98,0.98,0.05,0.98,0.98,0.98,0.00,0.18,0.98,0.00,0.98,0.29,0.98,0.00,0.00,0.01,0.00,0.98,0.01,0.80,0.80,0.98,0.98,0.01,0.00,0.98,0.00,0.98,0.98,0.01,0.98,0.98,0.98,0.00,0.00,0.00,0.98,0.00,0.98,0.98,0.98,0.00,0.98,0.01,0.98,0.00,0.00,0.98,0.98,0.98,0.00,0.98,0.98,0.01,0.00,0.98,0.98,0.98,0.00,0.98,0.00,0.98,0.80,0.80,0.98,0.00,0.98,0.00,0.00,0.98,0.98,0.05,0.98,0.98,0.00,0.98,0.00,0.98,0.01,0.18,0.98,0.98,0.98,0.98,0.98,0.98,0.00,0.00,0.18,0.01,0.02,0.00,0.00,0.98,0.00,0.01,0.98,0.04,0.01,0.00,0.98,0.01,0.98,0.01,0.01,0.98,0.00,0.01,0.00,0.88,0.98,0.00,0.98,0.98,0.01,0.98,0.04,0.01,0.05,0.01,0.98,0.98,0.18,0.05,0.98,0.00,0.01])\n",
    "\n",
    "y_test = [1.00,1.00,0.00,1.00,1.00,1.00,0.00,1.00,1.00,1.00,1.00,1.00,0.00,0.00,0.00,0.00,1.00,0.00,1.00,0.00,1.00,0.00,0.00,0.00,1.00]\n",
    "y_test_pred = np.array([0.18,0.98,0.00,0.98,0.98,0.98,0.98,0.98,0.98,0.05,0.98,0.01,0.00,0.98,0.00,0.00,0.98,0.01,0.01,0.98,0.01,0.98,0.98,0.80,0.98])"
   ],
   "outputs": [],
   "execution_count": 10
  },
  {
   "metadata": {},
   "cell_type": "markdown",
   "source": "### Set an \"acceptance\" limit",
   "id": "620e4421c2047ef5"
  },
  {
   "metadata": {
    "ExecuteTime": {
     "end_time": "2025-03-22T11:35:48.612230Z",
     "start_time": "2025-03-22T11:35:48.610053Z"
    }
   },
   "cell_type": "code",
   "source": [
    "y_train_pred_bin = (y_train_pred >= 0.05).astype(int)\n",
    "y_test_pred_bin = (y_test_pred >= 0.05).astype(int)"
   ],
   "id": "11d9be12e599079",
   "outputs": [],
   "execution_count": 11
  },
  {
   "metadata": {},
   "cell_type": "markdown",
   "source": "### Helper function in order to evaluate our model",
   "id": "6c42f17a70dd090a"
  },
  {
   "metadata": {
    "ExecuteTime": {
     "end_time": "2025-03-22T11:35:48.635413Z",
     "start_time": "2025-03-22T11:35:48.631932Z"
    }
   },
   "cell_type": "code",
   "source": [
    "def evaluate_model(y_true, y_pred, dataset_name=\"\"):\n",
    "    print(f\"=== Evaluation for {dataset_name} ===\")\n",
    "    print(f\"Accuracy: {accuracy_score(y_true, y_pred):.4f}\")\n",
    "    print(f\"Precision: {precision_score(y_true, y_pred):.4f}\")\n",
    "    print(f\"Recall: {recall_score(y_true, y_pred):.4f}\")\n",
    "    print(f\"F1 Score: {f1_score(y_true, y_pred):.4f}\")\n",
    "    print(\"Matrice di confusione:\")\n",
    "    print(confusion_matrix(y_true, y_pred))\n",
    "    print(\"Report dettagliato:\")\n",
    "    print(classification_report(y_true, y_pred))\n",
    "    print(\"\\n\")"
   ],
   "id": "a4509a8868b5bdce",
   "outputs": [],
   "execution_count": 12
  },
  {
   "metadata": {},
   "cell_type": "markdown",
   "source": "### Evaluation on training data",
   "id": "3bc6935a4b916968"
  },
  {
   "metadata": {
    "ExecuteTime": {
     "end_time": "2025-03-22T11:35:48.655374Z",
     "start_time": "2025-03-22T11:35:48.646129Z"
    }
   },
   "cell_type": "code",
   "source": "evaluate_model(y_train, y_train_pred_bin, \"Training Set\")",
   "id": "b07b9c2b1d69080a",
   "outputs": [
    {
     "name": "stdout",
     "output_type": "stream",
     "text": [
      "=== Evaluation for Training Set ===\n",
      "Accuracy: 0.9258\n",
      "Precision: 0.8940\n",
      "Recall: 0.9783\n",
      "F1 Score: 0.9343\n",
      "Matrice di confusione:\n",
      "[[102  16]\n",
      " [  3 135]]\n",
      "Report dettagliato:\n",
      "              precision    recall  f1-score   support\n",
      "\n",
      "         0.0       0.97      0.86      0.91       118\n",
      "         1.0       0.89      0.98      0.93       138\n",
      "\n",
      "    accuracy                           0.93       256\n",
      "   macro avg       0.93      0.92      0.92       256\n",
      "weighted avg       0.93      0.93      0.93       256\n",
      "\n",
      "\n",
      "\n"
     ]
    }
   ],
   "execution_count": 13
  },
  {
   "metadata": {
    "ExecuteTime": {
     "end_time": "2025-03-22T11:35:48.681070Z",
     "start_time": "2025-03-22T11:35:48.677942Z"
    }
   },
   "cell_type": "code",
   "source": [
    "auc = roc_auc_score(y_train, y_train_pred)\n",
    "print(\"ROC AUC Score on training data:\", auc)"
   ],
   "id": "6581f4198928d1c4",
   "outputs": [
    {
     "name": "stdout",
     "output_type": "stream",
     "text": [
      "ROC AUC Score on training data: 0.9782915745517071\n"
     ]
    }
   ],
   "execution_count": 14
  },
  {
   "metadata": {},
   "cell_type": "markdown",
   "source": "### Evaluation on test data",
   "id": "f914d5719fc1c5b2"
  },
  {
   "metadata": {
    "ExecuteTime": {
     "end_time": "2025-03-22T11:35:48.721422Z",
     "start_time": "2025-03-22T11:35:48.713123Z"
    }
   },
   "cell_type": "code",
   "source": "evaluate_model(y_test, y_test_pred_bin, \"Test Set\")",
   "id": "3e187a3687f6bdc1",
   "outputs": [
    {
     "name": "stdout",
     "output_type": "stream",
     "text": [
      "=== Evaluation for Test Set ===\n",
      "Accuracy: 0.6400\n",
      "Precision: 0.6471\n",
      "Recall: 0.7857\n",
      "F1 Score: 0.7097\n",
      "Matrice di confusione:\n",
      "[[ 5  6]\n",
      " [ 3 11]]\n",
      "Report dettagliato:\n",
      "              precision    recall  f1-score   support\n",
      "\n",
      "         0.0       0.62      0.45      0.53        11\n",
      "         1.0       0.65      0.79      0.71        14\n",
      "\n",
      "    accuracy                           0.64        25\n",
      "   macro avg       0.64      0.62      0.62        25\n",
      "weighted avg       0.64      0.64      0.63        25\n",
      "\n",
      "\n",
      "\n"
     ]
    }
   ],
   "execution_count": 15
  },
  {
   "cell_type": "code",
   "id": "ac2833f2c91e25be",
   "metadata": {
    "ExecuteTime": {
     "end_time": "2025-03-22T11:35:48.752116Z",
     "start_time": "2025-03-22T11:35:48.748007Z"
    }
   },
   "source": [
    "auc = roc_auc_score(y_test, y_test_pred)\n",
    "print(\"ROC AUC Score on test data:\", auc)"
   ],
   "outputs": [
    {
     "name": "stdout",
     "output_type": "stream",
     "text": [
      "ROC AUC Score on test data: 0.6493506493506493\n"
     ]
    }
   ],
   "execution_count": 16
  }
 ],
 "metadata": {
  "kernelspec": {
   "display_name": "Python 3 (ipykernel)",
   "language": "python",
   "name": "python3"
  },
  "language_info": {
   "codemirror_mode": {
    "name": "ipython",
    "version": 3
   },
   "file_extension": ".py",
   "mimetype": "text/x-python",
   "name": "python",
   "nbconvert_exporter": "python",
   "pygments_lexer": "ipython3",
   "version": "3.12.4"
  }
 },
 "nbformat": 4,
 "nbformat_minor": 5
}
