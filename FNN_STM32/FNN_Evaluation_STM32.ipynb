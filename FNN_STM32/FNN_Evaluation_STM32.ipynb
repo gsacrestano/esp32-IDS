{
 "cells": [
  {
   "metadata": {},
   "cell_type": "markdown",
   "source": [
    "### STM32-F401RE FNN Evaluation\n",
    "\n",
    "\n"
   ],
   "id": "f58bbd3ba05ee859"
  },
  {
   "metadata": {
    "ExecuteTime": {
     "end_time": "2025-03-21T17:42:54.645Z",
     "start_time": "2025-03-21T17:42:54.635722Z"
    }
   },
   "cell_type": "code",
   "source": [
    "import numpy as np\n",
    "from sklearn.metrics import accuracy_score, precision_score, recall_score, f1_score, confusion_matrix, classification_report\n",
    "from sklearn.metrics import roc_auc_score\n"
   ],
   "id": "56f4cf58d26e21c1",
   "outputs": [],
   "execution_count": 119
  },
  {
   "metadata": {},
   "cell_type": "markdown",
   "source": [
    "### DATA\n",
    "**Dataset**: 226 entry\\\n",
    "**Test_Dataset**: 25 entry"
   ],
   "id": "bf0a1a59e53494e9"
  },
  {
   "cell_type": "code",
   "id": "f6a0e653742f3b77",
   "metadata": {
    "ExecuteTime": {
     "end_time": "2025-03-21T17:42:54.679050Z",
     "start_time": "2025-03-21T17:42:54.669271Z"
    }
   },
   "source": [
    "y_test = [1.00,1.00,0.00,1.00,1.00,1.00,0.00,1.00,1.00,1.00,1.00,1.00,0.00,0.00,0.00,0.00,1.00,0.00,1.00,0.00,1.00,0.00,0.00,0.00,1.00]\n",
    "y_test_pred = np.array([0.65,0.54,0.00,1.00,0.53,1.00,0.00,0.74,0.29,1.00,1.00,0.98,0.00,0.00,0.00,0.00,1.00,0.00,1.00,0.01,1.00,0.07,0.27,0.01,1.00])\n",
    "y_train = [0.00,1.00,0.00,1.00,1.00,1.00,1.00,1.00,1.00,1.00,1.00,0.00,0.00,1.00,0.00,0.00,1.00,0.00,0.00,1.00,0.00,1.00,1.00,1.00,1.00,1.00,1.00,0.00,1.00,0.00,1.00,0.00,1.00,1.00,1.00,0.00,1.00,1.00,0.00,0.00,0.00,1.00,0.00,1.00,1.00,0.00,1.00,0.00,0.00,1.00,1.00,0.00,1.00,0.00,0.00,1.00,0.00,0.00,1.00,0.00,0.00,0.00,1.00,0.00,0.00,1.00,1.00,0.00,0.00,1.00,0.00,1.00,1.00,1.00,1.00,1.00,1.00,0.00,0.00,0.00,0.00,0.00,0.00,0.00,1.00,1.00,1.00,0.00,1.00,1.00,1.00,1.00,1.00,0.00,0.00,1.00,1.00,1.00,0.00,1.00,1.00,1.00,1.00,0.00,1.00,1.00,0.00,0.00,0.00,1.00,1.00,1.00,1.00,1.00,1.00,0.00,0.00,0.00,1.00,1.00,0.00,0.00,0.00,1.00,0.00,1.00,0.00,0.00,1.00,1.00,1.00,0.00,1.00,1.00,1.00,1.00,0.00,1.00,0.00,1.00,0.00,1.00,0.00,0.00,0.00,0.00,1.00,0.00,1.00,1.00,1.00,1.00,0.00,0.00,1.00,0.00,1.00,0.00,0.00,1.00,1.00,1.00,0.00,0.00,0.00,1.00,0.00,1.00,1.00,1.00,0.00,1.00,0.00,1.00,0.00,0.00,1.00,1.00,1.00,0.00,1.00,1.00,0.00,0.00,1.00,1.00,1.00,0.00,1.00,0.00,1.00,1.00,1.00,1.00,0.00,1.00,0.00,0.00,1.00,1.00,0.00,1.00,1.00,0.00,1.00,0.00,1.00,0.00,0.00,1.00,1.00,1.00,1.00,1.00,1.00,0.00,0.00,1.00,0.00,0.00,0.00,0.00,1.00,0.00,0.00,1.00]\n",
    "y_train_pred = np.array([0.29,1.00,0.51,1.00,1.00,1.00,1.00,1.00,1.00,0.21,1.00,0.01,0.00,1.00,0.00,0.02,1.00,0.00,0.00,1.00,0.00,1.00,1.00,0.75,1.00,1.00,1.00,0.00,1.00,0.04,1.00,0.00,1.00,1.00,0.34,0.00,1.00,0.99,0.00,0.24,0.00,1.00,0.00,0.46,0.98,0.00,1.00,0.00,0.23,1.00,1.00,0.07,1.00,0.00,0.00,1.00,0.00,0.00,0.98,0.25,0.00,0.00,1.00,0.11,0.28,1.00,1.00,0.02,0.01,1.00,0.00,1.00,1.00,0.98,1.00,1.00,0.63,0.22,0.00,0.00,0.00,0.07,0.00,0.13,1.00,1.00,1.00,0.00,1.00,1.00,1.00,1.00,1.00,0.00,0.06,0.98,0.98,1.00,0.03,1.00,0.37,1.00,1.00,0.00,1.00,1.00,0.00,0.00,0.04,1.00,0.98,0.98,1.00,1.00,0.97,0.00,0.00,0.00,1.00,1.00,0.00,0.00,0.00,1.00,0.00,1.00,0.01,0.00,1.00,1.00,1.00,0.27,0.98,1.00,1.00,0.96,0.29,1.00,0.00,1.00,0.00,1.00,0.20,0.01,0.00,0.12,1.00,0.00,0.98,0.75,1.00,0.98,0.00,0.01,1.00,0.00,1.00,0.41,0.00,1.00,0.98,1.00,0.00,0.00,0.00,1.00,0.00,1.00,1.00,1.00,0.00,0.89,0.00,1.00,0.14,0.00,0.98,1.00,1.00,0.00,1.00,1.00,0.00,0.00,1.00,1.00,1.00,0.00,1.00,0.00,1.00,0.75,0.98,1.00,0.01,0.64,0.01,0.00,1.00,1.00,0.23,0.96,0.96,0.00,1.00,0.00,1.00,0.01,0.24,1.00,0.98,1.00,1.00,1.00,1.00,0.45,0.00,0.30,0.00,0.00,0.00,0.10,1.00,0.00,0.00,1.00])"
   ],
   "outputs": [],
   "execution_count": 120
  },
  {
   "metadata": {},
   "cell_type": "markdown",
   "source": "### Set an \"acceptance\" limit",
   "id": "620e4421c2047ef5"
  },
  {
   "metadata": {
    "ExecuteTime": {
     "end_time": "2025-03-21T17:42:54.690887Z",
     "start_time": "2025-03-21T17:42:54.688854Z"
    }
   },
   "cell_type": "code",
   "source": [
    "y_train_pred_bin = (y_train_pred >= 0.05).astype(int)\n",
    "y_test_pred_bin = (y_test_pred >= 0.05).astype(int)"
   ],
   "id": "11d9be12e599079",
   "outputs": [],
   "execution_count": 121
  },
  {
   "metadata": {},
   "cell_type": "markdown",
   "source": "### Helper function in order to evaluate our model",
   "id": "6c42f17a70dd090a"
  },
  {
   "metadata": {
    "ExecuteTime": {
     "end_time": "2025-03-21T17:42:54.699022Z",
     "start_time": "2025-03-21T17:42:54.696097Z"
    }
   },
   "cell_type": "code",
   "source": [
    "def evaluate_model(y_true, y_pred, dataset_name=\"\"):\n",
    "    print(f\"=== Evaluation for {dataset_name} ===\")\n",
    "    print(f\"Accuracy: {accuracy_score(y_true, y_pred):.4f}\")\n",
    "    print(f\"Precision: {precision_score(y_true, y_pred):.4f}\")\n",
    "    print(f\"Recall: {recall_score(y_true, y_pred):.4f}\")\n",
    "    print(f\"F1 Score: {f1_score(y_true, y_pred):.4f}\")\n",
    "    print(\"Matrice di confusione:\")\n",
    "    print(confusion_matrix(y_true, y_pred))\n",
    "    print(\"Report dettagliato:\")\n",
    "    print(classification_report(y_true, y_pred))\n",
    "    print(\"\\n\")"
   ],
   "id": "a4509a8868b5bdce",
   "outputs": [],
   "execution_count": 122
  },
  {
   "metadata": {},
   "cell_type": "markdown",
   "source": "### Evaluation on training data",
   "id": "3bc6935a4b916968"
  },
  {
   "metadata": {
    "ExecuteTime": {
     "end_time": "2025-03-21T17:42:54.716634Z",
     "start_time": "2025-03-21T17:42:54.705187Z"
    }
   },
   "cell_type": "code",
   "source": "evaluate_model(y_train, y_train_pred_bin, \"Training Set\")",
   "id": "b07b9c2b1d69080a",
   "outputs": [
    {
     "name": "stdout",
     "output_type": "stream",
     "text": [
      "=== Evaluation for Training Set ===\n",
      "Accuracy: 0.9027\n",
      "Precision: 0.8514\n",
      "Recall: 1.0000\n",
      "F1 Score: 0.9197\n",
      "Matrice di confusione:\n",
      "[[ 78  22]\n",
      " [  0 126]]\n",
      "Report dettagliato:\n",
      "              precision    recall  f1-score   support\n",
      "\n",
      "         0.0       1.00      0.78      0.88       100\n",
      "         1.0       0.85      1.00      0.92       126\n",
      "\n",
      "    accuracy                           0.90       226\n",
      "   macro avg       0.93      0.89      0.90       226\n",
      "weighted avg       0.92      0.90      0.90       226\n",
      "\n",
      "\n",
      "\n"
     ]
    }
   ],
   "execution_count": 123
  },
  {
   "metadata": {
    "ExecuteTime": {
     "end_time": "2025-03-21T17:42:54.726968Z",
     "start_time": "2025-03-21T17:42:54.722267Z"
    }
   },
   "cell_type": "code",
   "source": [
    "auc = roc_auc_score(y_train, y_train_pred)\n",
    "print(\"ROC AUC Score on training data:\", auc)"
   ],
   "id": "6581f4198928d1c4",
   "outputs": [
    {
     "name": "stdout",
     "output_type": "stream",
     "text": [
      "ROC AUC Score on training data: 0.9981746031746032\n"
     ]
    }
   ],
   "execution_count": 124
  },
  {
   "metadata": {},
   "cell_type": "markdown",
   "source": "### Evaluation on test data",
   "id": "f914d5719fc1c5b2"
  },
  {
   "metadata": {
    "ExecuteTime": {
     "end_time": "2025-03-21T17:42:54.748220Z",
     "start_time": "2025-03-21T17:42:54.740325Z"
    }
   },
   "cell_type": "code",
   "source": "evaluate_model(y_test, y_test_pred_bin, \"Test Set\")",
   "id": "3e187a3687f6bdc1",
   "outputs": [
    {
     "name": "stdout",
     "output_type": "stream",
     "text": [
      "=== Evaluation for Test Set ===\n",
      "Accuracy: 0.9200\n",
      "Precision: 0.8750\n",
      "Recall: 1.0000\n",
      "F1 Score: 0.9333\n",
      "Matrice di confusione:\n",
      "[[ 9  2]\n",
      " [ 0 14]]\n",
      "Report dettagliato:\n",
      "              precision    recall  f1-score   support\n",
      "\n",
      "         0.0       1.00      0.82      0.90        11\n",
      "         1.0       0.88      1.00      0.93        14\n",
      "\n",
      "    accuracy                           0.92        25\n",
      "   macro avg       0.94      0.91      0.92        25\n",
      "weighted avg       0.93      0.92      0.92        25\n",
      "\n",
      "\n",
      "\n"
     ]
    }
   ],
   "execution_count": 125
  },
  {
   "cell_type": "code",
   "id": "ac2833f2c91e25be",
   "metadata": {
    "ExecuteTime": {
     "end_time": "2025-03-21T17:42:54.764585Z",
     "start_time": "2025-03-21T17:42:54.761848Z"
    }
   },
   "source": [
    "auc = roc_auc_score(y_test, y_test_pred)\n",
    "print(\"ROC AUC Score on test data:\", auc)"
   ],
   "outputs": [
    {
     "name": "stdout",
     "output_type": "stream",
     "text": [
      "ROC AUC Score on test data: 1.0\n"
     ]
    }
   ],
   "execution_count": 126
  }
 ],
 "metadata": {
  "kernelspec": {
   "display_name": "Python 3 (ipykernel)",
   "language": "python",
   "name": "python3"
  },
  "language_info": {
   "codemirror_mode": {
    "name": "ipython",
    "version": 3
   },
   "file_extension": ".py",
   "mimetype": "text/x-python",
   "name": "python",
   "nbconvert_exporter": "python",
   "pygments_lexer": "ipython3",
   "version": "3.12.4"
  }
 },
 "nbformat": 4,
 "nbformat_minor": 5
}
